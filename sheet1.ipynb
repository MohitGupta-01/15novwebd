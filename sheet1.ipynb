{
 "cells": [
  {
   "cell_type": "markdown",
   "id": "d4abafec",
   "metadata": {},
   "source": [
    "## Question 2"
   ]
  },
  {
   "cell_type": "code",
   "execution_count": 1,
   "id": "c9a03246",
   "metadata": {},
   "outputs": [
    {
     "data": {
      "text/plain": [
       "1953125"
      ]
     },
     "execution_count": 1,
     "metadata": {},
     "output_type": "execute_result"
    }
   ],
   "source": [
    "5**9"
   ]
  },
  {
   "cell_type": "code",
   "execution_count": 2,
   "id": "c9b326d8",
   "metadata": {},
   "outputs": [
    {
     "data": {
      "text/plain": [
       "1"
      ]
     },
     "execution_count": 2,
     "metadata": {},
     "output_type": "execute_result"
    }
   ],
   "source": [
    "3//2"
   ]
  },
  {
   "cell_type": "code",
   "execution_count": 3,
   "id": "a51a2112",
   "metadata": {},
   "outputs": [
    {
     "data": {
      "text/plain": [
       "2"
      ]
     },
     "execution_count": 3,
     "metadata": {},
     "output_type": "execute_result"
    }
   ],
   "source": [
    "7//3"
   ]
  },
  {
   "cell_type": "code",
   "execution_count": 4,
   "id": "ffcf1c48",
   "metadata": {},
   "outputs": [
    {
     "data": {
      "text/plain": [
       "2.3333333333333335"
      ]
     },
     "execution_count": 4,
     "metadata": {},
     "output_type": "execute_result"
    }
   ],
   "source": [
    "7/3"
   ]
  },
  {
   "cell_type": "code",
   "execution_count": 5,
   "id": "b13f4b63",
   "metadata": {},
   "outputs": [
    {
     "data": {
      "text/plain": [
       "True"
      ]
     },
     "execution_count": 5,
     "metadata": {},
     "output_type": "execute_result"
    }
   ],
   "source": [
    "6==6"
   ]
  },
  {
   "cell_type": "code",
   "execution_count": 6,
   "id": "11e8c8d9",
   "metadata": {},
   "outputs": [
    {
     "name": "stdout",
     "output_type": "stream",
     "text": [
      "50\n"
     ]
    }
   ],
   "source": [
    "a=20\n",
    "a+=30\n",
    "a%3\n",
    "print(a)"
   ]
  },
  {
   "cell_type": "code",
   "execution_count": 7,
   "id": "220a4b58",
   "metadata": {},
   "outputs": [
    {
     "data": {
      "text/plain": [
       "0"
      ]
     },
     "execution_count": 7,
     "metadata": {},
     "output_type": "execute_result"
    }
   ],
   "source": [
    "True * False"
   ]
  },
  {
   "cell_type": "code",
   "execution_count": 8,
   "id": "d7402012",
   "metadata": {},
   "outputs": [
    {
     "data": {
      "text/plain": [
       "False"
      ]
     },
     "execution_count": 8,
     "metadata": {},
     "output_type": "execute_result"
    }
   ],
   "source": [
    "True & False"
   ]
  },
  {
   "cell_type": "code",
   "execution_count": 9,
   "id": "043226d3",
   "metadata": {},
   "outputs": [
    {
     "data": {
      "text/plain": [
       "False"
      ]
     },
     "execution_count": 9,
     "metadata": {},
     "output_type": "execute_result"
    }
   ],
   "source": [
    "True and False"
   ]
  },
  {
   "cell_type": "code",
   "execution_count": 10,
   "id": "e561b716",
   "metadata": {},
   "outputs": [
    {
     "data": {
      "text/plain": [
       "False"
      ]
     },
     "execution_count": 10,
     "metadata": {},
     "output_type": "execute_result"
    }
   ],
   "source": [
    "((6>3) and (7<4) or (18==3)) and (9>3)"
   ]
  },
  {
   "cell_type": "code",
   "execution_count": 11,
   "id": "bafc4c63",
   "metadata": {},
   "outputs": [
    {
     "data": {
      "text/plain": [
       "False"
      ]
     },
     "execution_count": 11,
     "metadata": {},
     "output_type": "execute_result"
    }
   ],
   "source": [
    "True is False"
   ]
  },
  {
   "cell_type": "code",
   "execution_count": 16,
   "id": "61b99731",
   "metadata": {},
   "outputs": [
    {
     "data": {
      "text/plain": [
       "False"
      ]
     },
     "execution_count": 16,
     "metadata": {},
     "output_type": "execute_result"
    }
   ],
   "source": [
    "((True == False) or (False > True)) and (False <= True)"
   ]
  },
  {
   "cell_type": "markdown",
   "id": "52fc719d",
   "metadata": {},
   "source": [
    "# Question3"
   ]
  },
  {
   "cell_type": "code",
   "execution_count": 18,
   "id": "cab44f4b",
   "metadata": {},
   "outputs": [],
   "source": [
    "s1 = \"Nice to have it\""
   ]
  },
  {
   "cell_type": "code",
   "execution_count": 19,
   "id": "8f5570be",
   "metadata": {},
   "outputs": [],
   "source": [
    "s2=\"here\""
   ]
  },
  {
   "cell_type": "code",
   "execution_count": 22,
   "id": "0862dc01",
   "metadata": {},
   "outputs": [
    {
     "name": "stdout",
     "output_type": "stream",
     "text": [
      "Nice to have it here\n"
     ]
    }
   ],
   "source": [
    "print(s1+\" \"+s2)"
   ]
  },
  {
   "cell_type": "markdown",
   "id": "fe584fdc",
   "metadata": {},
   "source": [
    "## Question 4"
   ]
  },
  {
   "cell_type": "code",
   "execution_count": 23,
   "id": "25000c15",
   "metadata": {},
   "outputs": [],
   "source": [
    "a = [1,2,[3,4],[5,[100,200,['hello']],23,11],1,7]"
   ]
  },
  {
   "cell_type": "code",
   "execution_count": 29,
   "id": "bcd3c92b",
   "metadata": {},
   "outputs": [
    {
     "data": {
      "text/plain": [
       "['hello']"
      ]
     },
     "execution_count": 29,
     "metadata": {},
     "output_type": "execute_result"
    }
   ],
   "source": [
    "a[3][1][2]"
   ]
  },
  {
   "cell_type": "markdown",
   "id": "a3c22c54",
   "metadata": {},
   "source": [
    "## Question 5"
   ]
  },
  {
   "cell_type": "code",
   "execution_count": 34,
   "id": "31efde7c",
   "metadata": {},
   "outputs": [],
   "source": [
    "a.append(s2)\n",
    "a.insert(0,s1)"
   ]
  },
  {
   "cell_type": "code",
   "execution_count": 36,
   "id": "2c99e653",
   "metadata": {},
   "outputs": [
    {
     "name": "stdout",
     "output_type": "stream",
     "text": [
      "['Nice to have it', 1, 2, [3, 4], [5, [100, 200, ['hello']], 23, 11], 1, 7, 'here', 'here']\n"
     ]
    }
   ],
   "source": [
    "print(a)"
   ]
  },
  {
   "cell_type": "markdown",
   "id": "38254632",
   "metadata": {},
   "source": [
    "## Question 6"
   ]
  },
  {
   "cell_type": "code",
   "execution_count": 3,
   "id": "e51e28ae",
   "metadata": {},
   "outputs": [],
   "source": [
    "numbers = [386, 462, 47, 418, 907, 344, 236, 375, 823, 566, 597, 978, 328, 615, 953, 345, 399, 162, 758, 219, 918, 237, 412, 566, 826, 248, 866, 950, 626, 949, 687, 217, 815, 67, 104, 58, 512, 24, 892, 894, 767, 553, 81, 379, 843, 831, 445, 742, 717, 958,743, 527]\n"
   ]
  },
  {
   "cell_type": "code",
   "execution_count": null,
   "id": "aeeb9e45",
   "metadata": {
    "scrolled": true
   },
   "outputs": [],
   "source": [
    " i=0\n",
    "while(numbers[i]!=412):\n",
    "    if numbers[i]%2==0:\n",
    "        print(numbers[i])\n",
    "    i=i+1"
   ]
  },
  {
   "cell_type": "markdown",
   "id": "1bf2f8b3",
   "metadata": {},
   "source": [
    "## Question 7"
   ]
  },
  {
   "cell_type": "code",
   "execution_count": 12,
   "id": "9b7fba85",
   "metadata": {},
   "outputs": [
    {
     "name": "stdout",
     "output_type": "stream",
     "text": [
      "{'Black', 'White'}\n"
     ]
    }
   ],
   "source": [
    "color_list_1 = {\"White\", \"Black\", \"Red\"}\n",
    "color_list_2 = {\"Red\", \"Green\"}\n",
    "print(color_list_1-color_list_2)"
   ]
  },
  {
   "cell_type": "markdown",
   "id": "47b44994",
   "metadata": {},
   "source": [
    "## Question 8"
   ]
  },
  {
   "cell_type": "code",
   "execution_count": null,
   "id": "58ccc4dd",
   "metadata": {},
   "outputs": [],
   "source": [
    "text=input(\"Enter the text:\")\n",
    "charset='abcdefghijklmnopqrstuvwxyz'\n",
    "text= text.lower()\n",
    "flag=0\n",
    "for char in charset:\n",
    "    if char not in string:\n",
    "        flag=1\n",
    "        break\n",
    "if flag==1:\n",
    "    print('False')\n",
    "else:\n",
    "    print(\"True\")\n",
    "    \n"
   ]
  },
  {
   "cell_type": "markdown",
   "id": "61aaaeb6",
   "metadata": {},
   "source": [
    "## Question 9"
   ]
  },
  {
   "cell_type": "code",
   "execution_count": 31,
   "id": "98dcaeb1",
   "metadata": {},
   "outputs": [
    {
     "name": "stdout",
     "output_type": "stream",
     "text": [
      "Enter the number:5\n",
      "155\n"
     ]
    }
   ],
   "source": [
    "n=int(input(\"Enter the number:\"))\n",
    "print(n+(n*n)+(n*n*n))"
   ]
  },
  {
   "cell_type": "markdown",
   "id": "36701679",
   "metadata": {},
   "source": [
    "## Question 10"
   ]
  },
  {
   "cell_type": "code",
   "execution_count": null,
   "id": "527132e8",
   "metadata": {},
   "outputs": [],
   "source": [
    "s=input(\"Enter a string\")\n",
    "l=s.split(\"#\")\n",
    "list1=l[0].split(' ')\n",
    "for i in range(len(list1)):\n",
    "    list1[i]=int(list1[i])\n",
    "list2=l[1].split(' ')\n",
    "for i in range(len(list2)):\n",
    "    list2[i]=int(list2[i])\n",
    "print(list1)\n",
    "print(list2)\n",
    "\n"
   ]
  },
  {
   "cell_type": "markdown",
   "id": "65ae226a",
   "metadata": {},
   "source": [
    "## Question 11"
   ]
  },
  {
   "cell_type": "code",
   "execution_count": 7,
   "id": "8cae7fce",
   "metadata": {},
   "outputs": [
    {
     "name": "stdout",
     "output_type": "stream",
     "text": [
      "Enter a string: \n",
      "Mohit, Rohit\n",
      "['Mohit', ' Rohit']\n",
      "[' Rohit', 'Mohit']\n"
     ]
    }
   ],
   "source": [
    "print(\"Enter a string: \")\n",
    "s=input().split(',')\n",
    "print(s)\n",
    "s.sort()\n",
    "print(s)\n"
   ]
  },
  {
   "cell_type": "markdown",
   "id": "67504fc8",
   "metadata": {},
   "source": [
    "# question 12"
   ]
  },
  {
   "cell_type": "code",
   "execution_count": 4,
   "id": "e142a370",
   "metadata": {},
   "outputs": [
    {
     "name": "stdout",
     "output_type": "stream",
     "text": [
      "Kishore\n"
     ]
    }
   ],
   "source": [
    "d = {'Student': ['Rahul', 'Kishore', 'Vidhya', 'Raakhi'], 'Marks': [57,87,67,79]}\n",
    "d1=d['Marks']\n",
    "large=max(d['Marks'])\n",
    "j=0\n",
    "for i in range(len(d1)):\n",
    "    if(d1[i]==large):\n",
    "        j=i\n",
    "\n",
    "d2=d['Student']\n",
    "print(d2[j])\n"
   ]
  },
  {
   "cell_type": "markdown",
   "id": "2f9dcb46",
   "metadata": {},
   "source": [
    "## Question 13"
   ]
  },
  {
   "cell_type": "code",
   "execution_count": 3,
   "id": "00a83ef1",
   "metadata": {},
   "outputs": [
    {
     "name": "stdout",
     "output_type": "stream",
     "text": [
      "Enter a string:Hello world 123\n",
      "LETTERS  10\n",
      "DIGITS  3\n"
     ]
    }
   ],
   "source": [
    "s=input(\"Enter a string:\")\n",
    "letter=0\n",
    "digit=0\n",
    "for i in s:\n",
    "    if i.isalpha():\n",
    "        letter=letter+1\n",
    "    if i.isdigit():\n",
    "        digit=digit+1\n",
    "print(\"LETTERS \",letter)\n",
    "print(\"DIGITS \",digit)"
   ]
  },
  {
   "cell_type": "markdown",
   "id": "372e09c7",
   "metadata": {},
   "source": [
    "## Question 14\n"
   ]
  },
  {
   "cell_type": "code",
   "execution_count": 2,
   "id": "f8ab7c2b",
   "metadata": {},
   "outputs": [
    {
     "name": "stdout",
     "output_type": "stream",
     "text": [
      "Enter a Subject: Java\n",
      "{'Name': ['Soniya', 'Vikas'], 'Subject': ['Java', 'Java'], 'Ratings': [7.8, 5.6]}\n"
     ]
    }
   ],
   "source": [
    "d = {'Name': ['Akash', 'Soniya', 'Vishakha' , 'Akshay', 'Rahul', 'Vikas'],\n",
    "'Subject': ['Python', 'Java', 'Python', 'C', 'Python', 'Java'],\n",
    "'Ratings': [8.4, 7.8, 8, 9, 8.2, 5.6]}\n",
    "s=input('Enter a Subject: ')\n",
    "l1=d['Name']\n",
    "l2=[]\n",
    "l3=[]\n",
    "l4=d['Ratings']\n",
    "l5=[]\n",
    "sub=d['Subject']\n",
    "for i in range(len(sub)):\n",
    "    if sub[i]==s:\n",
    "        l2+=[sub[i]]\n",
    "        l3+=[l1[i]]\n",
    "        l5+=[l4[i]]\n",
    "d1={}\n",
    "d1['Name']=l3\n",
    "d1['Subject']=l2\n",
    "d1['Ratings']=l5\n",
    "print(d1)\n"
   ]
  },
  {
   "cell_type": "markdown",
   "id": "700b4eed",
   "metadata": {},
   "source": [
    "## Question 16"
   ]
  },
  {
   "cell_type": "code",
   "execution_count": 1,
   "id": "7b42020f",
   "metadata": {},
   "outputs": [
    {
     "name": "stdout",
     "output_type": "stream",
     "text": [
      "Type UP,DOWN,LEFT,RIGHT and corresponding Step number:UP 23\n",
      "Type UP,DOWN,LEFT,RIGHT and corresponding Step number:DOWN 65\n",
      "Type UP,DOWN,LEFT,RIGHT and corresponding Step number:LEFT 45\n",
      "Type UP,DOWN,LEFT,RIGHT and corresponding Step number:UP 89\n",
      "Type UP,DOWN,LEFT,RIGHT and corresponding Step number:\n",
      "Distance: 65\n"
     ]
    }
   ],
   "source": [
    "import math\n",
    "x,y=0,0\n",
    "while True:\n",
    "    step = input('Type UP,DOWN,LEFT,RIGHT and corresponding Step number:')\n",
    "    if step == '':\n",
    "        break\n",
    "    else:\n",
    "        step = step.split(' ')\n",
    "        if step[0]=='UP':\n",
    "            y+=int(step[1])\n",
    "        elif step[0]=='DOWN':\n",
    "            y-=int(step[1])\n",
    "        elif step[0]=='LEFT':\n",
    "            x-=int(step[1])\n",
    "        elif step[0]=='RIGHT':\n",
    "            x+=int(step[1])\n",
    "c= math.sqrt(x**2+y**2)\n",
    "d=int(c)\n",
    "print('Distance:',d)"
   ]
  },
  {
   "cell_type": "code",
   "execution_count": null,
   "id": "6cf5af87",
   "metadata": {},
   "outputs": [],
   "source": []
  }
 ],
 "metadata": {
  "kernelspec": {
   "display_name": "Python 3",
   "language": "python",
   "name": "python3"
  },
  "language_info": {
   "codemirror_mode": {
    "name": "ipython",
    "version": 3
   },
   "file_extension": ".py",
   "mimetype": "text/x-python",
   "name": "python",
   "nbconvert_exporter": "python",
   "pygments_lexer": "ipython3",
   "version": "3.8.8"
  }
 },
 "nbformat": 4,
 "nbformat_minor": 5
}
